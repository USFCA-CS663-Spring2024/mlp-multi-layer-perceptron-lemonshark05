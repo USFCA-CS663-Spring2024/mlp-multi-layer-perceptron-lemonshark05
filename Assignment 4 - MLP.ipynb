{
 "cells": [
  {
   "cell_type": "markdown",
   "id": "noted-template",
   "metadata": {},
   "source": [
    "# Import data"
   ]
  },
  {
   "cell_type": "code",
   "execution_count": 1,
   "id": "stopped-jewel",
   "metadata": {},
   "outputs": [
    {
     "data": {
      "text/html": [
       "<div>\n",
       "<style scoped>\n",
       "    .dataframe tbody tr th:only-of-type {\n",
       "        vertical-align: middle;\n",
       "    }\n",
       "\n",
       "    .dataframe tbody tr th {\n",
       "        vertical-align: top;\n",
       "    }\n",
       "\n",
       "    .dataframe thead th {\n",
       "        text-align: right;\n",
       "    }\n",
       "</style>\n",
       "<table border=\"1\" class=\"dataframe\">\n",
       "  <thead>\n",
       "    <tr style=\"text-align: right;\">\n",
       "      <th></th>\n",
       "      <th>fixed acidity</th>\n",
       "      <th>volatile acidity</th>\n",
       "      <th>citric acid</th>\n",
       "      <th>residual sugar</th>\n",
       "      <th>chlorides</th>\n",
       "      <th>free sulfur dioxide</th>\n",
       "      <th>total sulfur dioxide</th>\n",
       "      <th>density</th>\n",
       "      <th>pH</th>\n",
       "      <th>sulphates</th>\n",
       "      <th>alcohol</th>\n",
       "      <th>quality</th>\n",
       "    </tr>\n",
       "  </thead>\n",
       "  <tbody>\n",
       "    <tr>\n",
       "      <th>0</th>\n",
       "      <td>7.4</td>\n",
       "      <td>0.700</td>\n",
       "      <td>0.00</td>\n",
       "      <td>1.9</td>\n",
       "      <td>0.076</td>\n",
       "      <td>11.0</td>\n",
       "      <td>34.0</td>\n",
       "      <td>0.99780</td>\n",
       "      <td>3.51</td>\n",
       "      <td>0.56</td>\n",
       "      <td>9.4</td>\n",
       "      <td>5</td>\n",
       "    </tr>\n",
       "    <tr>\n",
       "      <th>1</th>\n",
       "      <td>7.8</td>\n",
       "      <td>0.880</td>\n",
       "      <td>0.00</td>\n",
       "      <td>2.6</td>\n",
       "      <td>0.098</td>\n",
       "      <td>25.0</td>\n",
       "      <td>67.0</td>\n",
       "      <td>0.99680</td>\n",
       "      <td>3.20</td>\n",
       "      <td>0.68</td>\n",
       "      <td>9.8</td>\n",
       "      <td>5</td>\n",
       "    </tr>\n",
       "    <tr>\n",
       "      <th>2</th>\n",
       "      <td>7.8</td>\n",
       "      <td>0.760</td>\n",
       "      <td>0.04</td>\n",
       "      <td>2.3</td>\n",
       "      <td>0.092</td>\n",
       "      <td>15.0</td>\n",
       "      <td>54.0</td>\n",
       "      <td>0.99700</td>\n",
       "      <td>3.26</td>\n",
       "      <td>0.65</td>\n",
       "      <td>9.8</td>\n",
       "      <td>5</td>\n",
       "    </tr>\n",
       "    <tr>\n",
       "      <th>3</th>\n",
       "      <td>11.2</td>\n",
       "      <td>0.280</td>\n",
       "      <td>0.56</td>\n",
       "      <td>1.9</td>\n",
       "      <td>0.075</td>\n",
       "      <td>17.0</td>\n",
       "      <td>60.0</td>\n",
       "      <td>0.99800</td>\n",
       "      <td>3.16</td>\n",
       "      <td>0.58</td>\n",
       "      <td>9.8</td>\n",
       "      <td>6</td>\n",
       "    </tr>\n",
       "    <tr>\n",
       "      <th>4</th>\n",
       "      <td>7.4</td>\n",
       "      <td>0.700</td>\n",
       "      <td>0.00</td>\n",
       "      <td>1.9</td>\n",
       "      <td>0.076</td>\n",
       "      <td>11.0</td>\n",
       "      <td>34.0</td>\n",
       "      <td>0.99780</td>\n",
       "      <td>3.51</td>\n",
       "      <td>0.56</td>\n",
       "      <td>9.4</td>\n",
       "      <td>5</td>\n",
       "    </tr>\n",
       "    <tr>\n",
       "      <th>...</th>\n",
       "      <td>...</td>\n",
       "      <td>...</td>\n",
       "      <td>...</td>\n",
       "      <td>...</td>\n",
       "      <td>...</td>\n",
       "      <td>...</td>\n",
       "      <td>...</td>\n",
       "      <td>...</td>\n",
       "      <td>...</td>\n",
       "      <td>...</td>\n",
       "      <td>...</td>\n",
       "      <td>...</td>\n",
       "    </tr>\n",
       "    <tr>\n",
       "      <th>1594</th>\n",
       "      <td>6.2</td>\n",
       "      <td>0.600</td>\n",
       "      <td>0.08</td>\n",
       "      <td>2.0</td>\n",
       "      <td>0.090</td>\n",
       "      <td>32.0</td>\n",
       "      <td>44.0</td>\n",
       "      <td>0.99490</td>\n",
       "      <td>3.45</td>\n",
       "      <td>0.58</td>\n",
       "      <td>10.5</td>\n",
       "      <td>5</td>\n",
       "    </tr>\n",
       "    <tr>\n",
       "      <th>1595</th>\n",
       "      <td>5.9</td>\n",
       "      <td>0.550</td>\n",
       "      <td>0.10</td>\n",
       "      <td>2.2</td>\n",
       "      <td>0.062</td>\n",
       "      <td>39.0</td>\n",
       "      <td>51.0</td>\n",
       "      <td>0.99512</td>\n",
       "      <td>3.52</td>\n",
       "      <td>0.76</td>\n",
       "      <td>11.2</td>\n",
       "      <td>6</td>\n",
       "    </tr>\n",
       "    <tr>\n",
       "      <th>1596</th>\n",
       "      <td>6.3</td>\n",
       "      <td>0.510</td>\n",
       "      <td>0.13</td>\n",
       "      <td>2.3</td>\n",
       "      <td>0.076</td>\n",
       "      <td>29.0</td>\n",
       "      <td>40.0</td>\n",
       "      <td>0.99574</td>\n",
       "      <td>3.42</td>\n",
       "      <td>0.75</td>\n",
       "      <td>11.0</td>\n",
       "      <td>6</td>\n",
       "    </tr>\n",
       "    <tr>\n",
       "      <th>1597</th>\n",
       "      <td>5.9</td>\n",
       "      <td>0.645</td>\n",
       "      <td>0.12</td>\n",
       "      <td>2.0</td>\n",
       "      <td>0.075</td>\n",
       "      <td>32.0</td>\n",
       "      <td>44.0</td>\n",
       "      <td>0.99547</td>\n",
       "      <td>3.57</td>\n",
       "      <td>0.71</td>\n",
       "      <td>10.2</td>\n",
       "      <td>5</td>\n",
       "    </tr>\n",
       "    <tr>\n",
       "      <th>1598</th>\n",
       "      <td>6.0</td>\n",
       "      <td>0.310</td>\n",
       "      <td>0.47</td>\n",
       "      <td>3.6</td>\n",
       "      <td>0.067</td>\n",
       "      <td>18.0</td>\n",
       "      <td>42.0</td>\n",
       "      <td>0.99549</td>\n",
       "      <td>3.39</td>\n",
       "      <td>0.66</td>\n",
       "      <td>11.0</td>\n",
       "      <td>6</td>\n",
       "    </tr>\n",
       "  </tbody>\n",
       "</table>\n",
       "<p>1599 rows × 12 columns</p>\n",
       "</div>"
      ],
      "text/plain": [
       "      fixed acidity  volatile acidity  citric acid  residual sugar  chlorides  \\\n",
       "0               7.4             0.700         0.00             1.9      0.076   \n",
       "1               7.8             0.880         0.00             2.6      0.098   \n",
       "2               7.8             0.760         0.04             2.3      0.092   \n",
       "3              11.2             0.280         0.56             1.9      0.075   \n",
       "4               7.4             0.700         0.00             1.9      0.076   \n",
       "...             ...               ...          ...             ...        ...   \n",
       "1594            6.2             0.600         0.08             2.0      0.090   \n",
       "1595            5.9             0.550         0.10             2.2      0.062   \n",
       "1596            6.3             0.510         0.13             2.3      0.076   \n",
       "1597            5.9             0.645         0.12             2.0      0.075   \n",
       "1598            6.0             0.310         0.47             3.6      0.067   \n",
       "\n",
       "      free sulfur dioxide  total sulfur dioxide  density    pH  sulphates  \\\n",
       "0                    11.0                  34.0  0.99780  3.51       0.56   \n",
       "1                    25.0                  67.0  0.99680  3.20       0.68   \n",
       "2                    15.0                  54.0  0.99700  3.26       0.65   \n",
       "3                    17.0                  60.0  0.99800  3.16       0.58   \n",
       "4                    11.0                  34.0  0.99780  3.51       0.56   \n",
       "...                   ...                   ...      ...   ...        ...   \n",
       "1594                 32.0                  44.0  0.99490  3.45       0.58   \n",
       "1595                 39.0                  51.0  0.99512  3.52       0.76   \n",
       "1596                 29.0                  40.0  0.99574  3.42       0.75   \n",
       "1597                 32.0                  44.0  0.99547  3.57       0.71   \n",
       "1598                 18.0                  42.0  0.99549  3.39       0.66   \n",
       "\n",
       "      alcohol  quality  \n",
       "0         9.4        5  \n",
       "1         9.8        5  \n",
       "2         9.8        5  \n",
       "3         9.8        6  \n",
       "4         9.4        5  \n",
       "...       ...      ...  \n",
       "1594     10.5        5  \n",
       "1595     11.2        6  \n",
       "1596     11.0        6  \n",
       "1597     10.2        5  \n",
       "1598     11.0        6  \n",
       "\n",
       "[1599 rows x 12 columns]"
      ]
     },
     "execution_count": 1,
     "metadata": {},
     "output_type": "execute_result"
    }
   ],
   "source": [
    "import pandas as pd\n",
    "\n",
    "df = pd.read_csv('winequality-red.csv')\n",
    "df"
   ]
  },
  {
   "cell_type": "code",
   "execution_count": null,
   "id": "8ec46230-0599-4a74-a313-51a6dbfcc137",
   "metadata": {},
   "outputs": [],
   "source": [
    "df.info()"
   ]
  },
  {
   "cell_type": "code",
   "execution_count": null,
   "id": "f82e3038-2a47-42e6-9821-edc6d3761912",
   "metadata": {},
   "outputs": [],
   "source": [
    "df.describe()"
   ]
  },
  {
   "cell_type": "code",
   "execution_count": null,
   "id": "6153377a-7ee9-46f7-9e0f-7f13b65c6bae",
   "metadata": {},
   "outputs": [],
   "source": [
    "import seaborn as sns\n",
    "\n",
    "sns.heatmap(df.corr(), annot=True)"
   ]
  },
  {
   "cell_type": "code",
   "execution_count": null,
   "id": "cd011c30-9024-4193-9482-94815c56f0ea",
   "metadata": {},
   "outputs": [],
   "source": [
    "sns.countplot(data=df, x='quality')"
   ]
  },
  {
   "cell_type": "code",
   "execution_count": null,
   "id": "ad583b1b-1107-417e-8f18-1aff0717484d",
   "metadata": {},
   "outputs": [],
   "source": [
    "import matplotlib.pyplot as plt\n",
    "\n",
    "for col in df.columns[:-1]:\n",
    "    plt.figure(figsize=(10,4))\n",
    "    sns.histplot(df[col], kde=True)"
   ]
  },
  {
   "cell_type": "code",
   "execution_count": null,
   "id": "polished-exploration",
   "metadata": {},
   "outputs": [],
   "source": [
    "# Add other steps"
   ]
  },
  {
   "cell_type": "markdown",
   "id": "afc81755-d497-4d6c-9240-169bff0c2e87",
   "metadata": {},
   "source": [
    "## Data Manipulation (prep for model)¶"
   ]
  },
  {
   "cell_type": "code",
   "execution_count": null,
   "id": "b5ee2489-a3f1-4372-a22a-1e1cdbe93140",
   "metadata": {},
   "outputs": [],
   "source": [
    "# Split the data\n",
    "X, y = df.iloc[:,:-1], df.iloc[:,-1]\n",
    "X"
   ]
  },
  {
   "cell_type": "code",
   "execution_count": null,
   "id": "37f8d506-98ec-49f6-9cd1-6b9267aee3f2",
   "metadata": {},
   "outputs": [],
   "source": [
    "y = (y > 5).astype(int)\n",
    "y"
   ]
  },
  {
   "cell_type": "code",
   "execution_count": null,
   "id": "0679d5f2-c747-4280-8e2f-6cd2ab499cea",
   "metadata": {},
   "outputs": [],
   "source": [
    "from sklearn.model_selection import train_test_split\n",
    "# First split:\n",
    "# - 70% of the data goes to the training set\n",
    "# - 30% of the data goes to a temporary set\n",
    "train_x, ee_x, train_y, ee_y = train_test_split(X, y, test_size=0.3, random_state=42)\n",
    "train_x.shape"
   ]
  },
  {
   "cell_type": "code",
   "execution_count": null,
   "id": "93353804-e048-47ef-8ee3-07414f676a1d",
   "metadata": {},
   "outputs": [],
   "source": [
    "# - 15% of the data goes to validation and 15% goes to testing\n",
    "valid_x, test_x, valid_y, test_y = train_test_split(ee_x, ee_y, test_size=0.5, random_state=42)\n",
    "valid_x.shape"
   ]
  },
  {
   "cell_type": "code",
   "execution_count": null,
   "id": "7949e63d-1d2e-4fc9-8faf-3b7f4136047f",
   "metadata": {},
   "outputs": [],
   "source": [
    "test_x.shape"
   ]
  },
  {
   "cell_type": "code",
   "execution_count": null,
   "id": "207f0d7e-323c-4666-aebd-334e7c0bca4e",
   "metadata": {},
   "outputs": [],
   "source": [
    "train_x"
   ]
  },
  {
   "cell_type": "markdown",
   "id": "ce6cc395-08d1-4b20-8936-2c429c3d3568",
   "metadata": {},
   "source": [
    "## Move data to PyTorch ecosystem"
   ]
  },
  {
   "cell_type": "code",
   "execution_count": null,
   "id": "eeaf68e9-ae68-47f0-9c9b-1e637434f51a",
   "metadata": {},
   "outputs": [],
   "source": [
    "import torch\n",
    "\n",
    "train_x = torch.tensor(train_x.to_numpy())\n",
    "train_x"
   ]
  },
  {
   "cell_type": "code",
   "execution_count": null,
   "id": "208b9d5b-8b93-409c-8484-821fe266d539",
   "metadata": {},
   "outputs": [],
   "source": [
    "train_x = train_x.float()\n",
    "train_x"
   ]
  },
  {
   "cell_type": "code",
   "execution_count": null,
   "id": "2431663c-cea2-4c8f-99f1-5157897b1012",
   "metadata": {},
   "outputs": [],
   "source": [
    "test_x, valid_x = map(torch.tensor, (test_x.to_numpy(), valid_x.to_numpy()))\n",
    "test_x = test_x.float()\n",
    "valid_x = valid_x.float()"
   ]
  },
  {
   "cell_type": "code",
   "execution_count": null,
   "id": "6f9bcdf5-81d7-41d6-b4fe-03d2bbacf74e",
   "metadata": {},
   "outputs": [],
   "source": [
    "valid_x.shape"
   ]
  },
  {
   "cell_type": "code",
   "execution_count": null,
   "id": "781d05b1-b7ea-44a3-98a4-a765d09d45ec",
   "metadata": {},
   "outputs": [],
   "source": [
    "# Targets must be long in CrossEntropyLoss\n",
    "train_y = torch.tensor(train_y.to_numpy(), dtype=torch.long)\n",
    "valid_y = torch.tensor(valid_y.to_numpy(), dtype=torch.long)\n",
    "test_y = torch.tensor(test_y.to_numpy(), dtype=torch.long)\n",
    "train_y"
   ]
  },
  {
   "cell_type": "code",
   "execution_count": null,
   "id": "b1cc06a2-dfb6-4a8c-b868-3fbfd12384bf",
   "metadata": {},
   "outputs": [],
   "source": [
    "from torch.utils.data import Dataset\n",
    "\n",
    "class BasicDataset(Dataset):\n",
    "    def __init__(self, x, y):\n",
    "        self.x = x\n",
    "        self.y = y\n",
    "        \n",
    "    def __getitem__(self, index):\n",
    "        return self.x[index], self.y[index]\n",
    "    \n",
    "    def __len__(self):\n",
    "        return len(self.x)"
   ]
  },
  {
   "cell_type": "code",
   "execution_count": null,
   "id": "e6eb6693-3581-4ee4-b890-5ad4a29a2c4d",
   "metadata": {},
   "outputs": [],
   "source": [
    "train_data = BasicDataset(train_x, train_y)\n",
    "valid_data = BasicDataset(valid_x, valid_y)\n",
    "test_data = BasicDataset(test_x, test_y)\n",
    "wine_basic_train = BasicDataset(train_x, train_y)"
   ]
  },
  {
   "cell_type": "code",
   "execution_count": null,
   "id": "24884436-e9c8-420f-9a51-2ebc7936d564",
   "metadata": {},
   "outputs": [],
   "source": [
    "from torch.utils.data import DataLoader\n",
    "\n",
    "train_loader = DataLoader(dataset=wine_basic_train, batch_size=11)"
   ]
  },
  {
   "cell_type": "markdown",
   "id": "stuck-visit",
   "metadata": {},
   "source": [
    "# Creating a basic MLP"
   ]
  },
  {
   "cell_type": "code",
   "execution_count": null,
   "id": "severe-literacy",
   "metadata": {},
   "outputs": [],
   "source": [
    "# Define the MLP model\n",
    "class BasicMLP(torch.nn.Module):\n",
    "    def __init__(self, n_inputs, hidden_size, n_outputs):\n",
    "        super(BasicMLP, self).__init__()\n",
    "        \n",
    "        self.inputs = n_inputs\n",
    "        self.hidden = hidden_size\n",
    "        self.outputs = n_outputs\n",
    "        \n",
    "        self.fc1 = torch.nn.Linear(self.inputs, self.hidden)\n",
    "        self.fc2 = torch.nn.Linear(self.hidden, self.outputs)\n",
    "        self.relu = torch.nn.ReLU()\n",
    "    \n",
    "    def forward(self, X):\n",
    "        out = self.fc1(X)\n",
    "        out = self.relu(out)\n",
    "        out = self.fc2(out)\n",
    "        return out"
   ]
  },
  {
   "cell_type": "code",
   "execution_count": null,
   "id": "064f6508-68e2-4243-b7d1-a1fae60374ea",
   "metadata": {},
   "outputs": [],
   "source": [
    "train_x.shape[1]"
   ]
  },
  {
   "cell_type": "code",
   "execution_count": null,
   "id": "9d276aa9-9c80-44e2-9a23-6b9349b73f4b",
   "metadata": {},
   "outputs": [],
   "source": [
    "model = BasicMLP(n_inputs=train_x.shape[1], hidden_size=5, n_outputs=2)"
   ]
  },
  {
   "cell_type": "code",
   "execution_count": null,
   "id": "c099c00f-95e7-406a-942b-228a5d30d19d",
   "metadata": {},
   "outputs": [],
   "source": [
    "model"
   ]
  },
  {
   "cell_type": "code",
   "execution_count": null,
   "id": "2013dece-060d-4661-b38a-0ce88e4e2874",
   "metadata": {},
   "outputs": [],
   "source": [
    "criterion = torch.nn.CrossEntropyLoss()\n",
    "optimizer = torch.optim.SGD(model.parameters(), lr=0.0001, momentum=0.5)"
   ]
  },
  {
   "cell_type": "code",
   "execution_count": null,
   "id": "6b2fdf9c-e652-4e66-8325-30c252baa488",
   "metadata": {},
   "outputs": [],
   "source": [
    "import numpy as np\n",
    "\n",
    "# Training loop\n",
    "\n",
    "epochs = 100\n",
    "\n",
    "loss_valid = []\n",
    "loss_train = []\n",
    "\n",
    "for epoch in range(epochs):\n",
    "    model.train()\n",
    "    # Batch the data\n",
    "    epoch_loss_train = []\n",
    "    for features, targets in train_loader:\n",
    "        output = model.forward(features) # Get model hypotheses\n",
    "        # Calculate a loss\n",
    "        loss = criterion(output, targets)\n",
    "        epoch_loss_train.append(loss.item())\n",
    "        optimizer.zero_grad() # remove any previous losses\n",
    "        loss.backward() # Calculate the current losses backward through the MLP\n",
    "        optimizer.step() # Apply to the model itself\n",
    "    # Calculate the training loss per epoch\n",
    "    loss_train.append(sum(epoch_loss_train) / len(epoch_loss_train))\n",
    "    \n",
    "    # Per epoch, get validation performance\n",
    "    model.eval() # Puts the model in evaluation mode\n",
    "    valid_hyp = model.forward(valid_x)\n",
    "    loss_valid.append(criterion(valid_hyp, valid_y).item())\n",
    "    c = torch.argmax(valid_hyp.data, dim=1)\n",
    "    valid_accuracy = (c == valid_y).sum().item() / valid_x.shape[0]\n",
    "    print('Epoch', epoch, 'train_loss', loss_train[-1], 'valid_loss', loss_valid[-1],\n",
    "          'validation accuracy:', valid_accuracy)"
   ]
  },
  {
   "cell_type": "code",
   "execution_count": null,
   "id": "35087346-d718-4f72-a603-ba7a293e6e2d",
   "metadata": {},
   "outputs": [],
   "source": [
    "import matplotlib.pyplot as plt\n",
    "import numpy as np\n",
    "\n",
    "def plot_loss_curves(epochs, loss_train, loss_valid):\n",
    "    plt.plot(epochs, loss_train, label='Train Loss')\n",
    "    plt.plot(epochs, loss_valid, label='Validation Loss')\n",
    "    plt.xlabel('Epochs')\n",
    "    plt.ylabel('Cross Entropy Loss')\n",
    "    plt.legend()\n",
    "    plt.show()\n",
    "\n",
    "plot_loss_curves(np.linspace(1, epochs, epochs).astype(int), loss_train, loss_valid)"
   ]
  },
  {
   "cell_type": "code",
   "execution_count": null,
   "id": "aab1efd2-ea23-4729-9d01-a4eaa431da83",
   "metadata": {},
   "outputs": [],
   "source": [
    "c = torch.argmax(valid_hyp, dim=1)\n",
    "valid_acc = (c == valid_y).sum().item() / valid_y.shape[0]\n",
    "valid_acc"
   ]
  },
  {
   "cell_type": "markdown",
   "id": "threatened-simple",
   "metadata": {},
   "source": [
    "# Making changes to basic MLP"
   ]
  },
  {
   "cell_type": "code",
   "execution_count": null,
   "id": "40395f6d-04c1-4dba-9f38-37b776af60b7",
   "metadata": {},
   "outputs": [],
   "source": [
    "df['type'].value_counts()"
   ]
  },
  {
   "cell_type": "code",
   "execution_count": null,
   "id": "sunrise-integrity",
   "metadata": {},
   "outputs": [],
   "source": [
    "# Add steps"
   ]
  },
  {
   "cell_type": "markdown",
   "id": "standard-territory",
   "metadata": {},
   "source": [
    "# Optional: Implementing the MLP"
   ]
  },
  {
   "cell_type": "code",
   "execution_count": null,
   "id": "secret-constitution",
   "metadata": {},
   "outputs": [],
   "source": [
    "# Add steps"
   ]
  }
 ],
 "metadata": {
  "kernelspec": {
   "display_name": "Python 3 (ipykernel)",
   "language": "python",
   "name": "python3"
  },
  "language_info": {
   "codemirror_mode": {
    "name": "ipython",
    "version": 3
   },
   "file_extension": ".py",
   "mimetype": "text/x-python",
   "name": "python",
   "nbconvert_exporter": "python",
   "pygments_lexer": "ipython3",
   "version": "3.11.5"
  }
 },
 "nbformat": 4,
 "nbformat_minor": 5
}
